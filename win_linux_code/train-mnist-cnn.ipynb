{
 "cells": [
  {
   "cell_type": "markdown",
   "metadata": {},
   "source": [
    "# Import libraries"
   ]
  },
  {
   "cell_type": "code",
   "execution_count": 1,
   "metadata": {},
   "outputs": [
    {
     "name": "stderr",
     "output_type": "stream",
     "text": [
      "Using TensorFlow backend.\n"
     ]
    }
   ],
   "source": [
    "# Ref: http://puremonkey2010.blogspot.com/2017/06/toolkit-keras-mnist.html\n",
    "#      http://yhhuang1966.blogspot.com/2018/03/keras-mlp.html\n",
    "#      https://dotblogs.com.tw/greengem/2017/12/17/094023\n",
    "#      https://medium.com/@yehjames/%E8%B3%87%E6%96%99%E5%88%86%E6%9E%90-%E6%A9%9F%E5%99%A8%E5%AD%B8%E7%BF%92-%E7%AC%AC3-2%E8%AC%9B-%E7%B7%9A%E6%80%A7%E5%88%86%E9%A1%9E-%E6%84%9F%E7%9F%A5%E5%99%A8-perceptron-%E4%BB%8B%E7%B4%B9-84d8b809f866\n",
    "\n",
    "import pandas as pd\n",
    "import numpy as np\n",
    "import random\n",
    "\n",
    "import matplotlib.pyplot as plt\n",
    "from IPython.display import SVG\n",
    "\n",
    "# Progress bar\n",
    "# 100%|██████████| 7178/7178 [00:04<00:00, 1534.93it/s]\n",
    "import tqdm\n",
    "\n",
    "# Libraries for deep learning\n",
    "from keras.models import Sequential, load_model\n",
    "from keras.layers import Conv2D, MaxPooling2D, Dropout, Dense, Flatten\n",
    "from keras.utils import np_utils, plot_model\n",
    "from keras.utils.vis_utils import model_to_dot\n",
    "from keras.utils import np_utils  # convert label to one-hot-encoding\n",
    "from keras.callbacks import ModelCheckpoint\n",
    "\n",
    "# Set random seed\n",
    "np.random.seed(10)\n",
    "\n",
    "# For OpenVINO\n",
    "import tensorflow as tf"
   ]
  },
  {
   "cell_type": "markdown",
   "metadata": {},
   "source": [
    "# Download & Load mnist dataset"
   ]
  },
  {
   "cell_type": "code",
   "execution_count": 2,
   "metadata": {},
   "outputs": [
    {
     "name": "stdout",
     "output_type": "stream",
     "text": [
      "Train data: 60,000 images\n",
      "Test data: 10,000 images\n",
      "\n",
      "train data type and shape\n",
      "<class 'numpy.ndarray'> (60000, 28, 28, 1) <class 'numpy.ndarray'> (60000,)\n",
      "test data and shape\n",
      "<class 'numpy.ndarray'> (10000, 28, 28, 1) <class 'numpy.ndarray'> (10000,)\n"
     ]
    }
   ],
   "source": [
    "# Load mnist keras built-in dataset\n",
    "from keras.datasets import mnist\n",
    "(x_train_img, y_train_label), (x_test_img, y_test_label) = mnist.load_data()\n",
    "\n",
    "# Preview data shape\n",
    "print(\"Train data: {:,} images\".format(len(x_train_img)))\n",
    "print(\"Test data: {:,} images\".format(len(x_test_img)))\n",
    "\n",
    "# Reshape (add color channel)\n",
    "x_train_img = x_train_img.reshape(-1, 28, 28, 1)\n",
    "x_test_img = x_test_img.reshape(-1, 28, 28, 1)\n",
    "\n",
    "# Check type and shape\n",
    "print('\\ntrain data type and shape')\n",
    "print(type(x_train_img), x_train_img.shape, type(y_train_label), y_train_label.shape)\n",
    "print('test data and shape')\n",
    "print(type(x_test_img), x_test_img.shape, type(y_test_label), y_test_label.shape)"
   ]
  },
  {
   "cell_type": "markdown",
   "metadata": {},
   "source": [
    "# <font face=\"Microsoft JhengHei\">View Data</font>"
   ]
  },
  {
   "cell_type": "code",
   "execution_count": 3,
   "metadata": {},
   "outputs": [
    {
     "data": {
      "image/png": "[encoded data removed]",
      "text/plain": [
       "<matplotlib.figure.Figure at 0x7fd11f500358>"
      ]
     },
     "metadata": {
      "needs_background": "light"
     },
     "output_type": "display_data"
    },
    {
     "name": "stdout",
     "output_type": "stream",
     "text": [
      "\n",
      "Image index 0 array:\n",
      "Label = 5\n"
     ]
    }
   ],
   "source": [
    "plt.figure(0, figsize=(12,6))\n",
    "for i in range(0, 12):\n",
    "    ax = plt.subplot(3, 4, i+1)\n",
    "    title = \"Label={}\".format(str(y_train_label[i]))\n",
    "    ax.set_title(title, fontsize=10)\n",
    "    plt.imshow(x_train_img[i].reshape(28, 28), cmap='binary') # cmap='binary' 參數設定以黑白灰階顯示(0白,255黑)、cmap='gray' 為0黑,255白\n",
    "\n",
    "plt.tight_layout()\n",
    "plt.show()\n",
    "\n",
    "print(\"\\nImage index 0 array:\")\n",
    "print(\"Label = {}\".format(y_train_label[0]))"
   ]
  },
  {
   "cell_type": "markdown",
   "metadata": {},
   "source": [
    "# <font face=\"Microsoft JhengHei\">Normalization & One-hot</font>"
   ]
  },
  {
   "cell_type": "code",
   "execution_count": 4,
   "metadata": {},
   "outputs": [
    {
     "name": "stdout",
     "output_type": "stream",
     "text": [
      "x_train: (60000, 28, 28, 1)\n",
      "x_test: (10000, 28, 28, 1)\n",
      "\n",
      "y_train: (60000, 10)\n",
      "y_test: (10000, 10)\n",
      "\n",
      "Image index 0 array:\n",
      "Label = [0. 0. 0. 0. 0. 1. 0. 0. 0. 0.]\n"
     ]
    }
   ],
   "source": [
    "# Normalization\n",
    "# Why we need normalization?\n",
    "# https://zh.wikipedia.org/wiki/%E7%89%B9%E5%BE%B5%E7%B8%AE%E6%94%BE\n",
    "# http://goudanlee.com/2017/06/22/%E6%9C%BA%E5%99%A8%E5%AD%A6%E4%B9%A0%E4%B8%AD%E7%9A%84%E7%89%B9%E5%BE%81%E7%BC%A9%E6%94%BE%EF%BC%88feature-scaling%EF%BC%89/\n",
    "\n",
    "x_train = x_train_img.astype('float32') / 255\n",
    "x_test = x_test_img.astype('float32') / 255\n",
    "print(\"x_train: {}\".format(str(x_train.shape)))\n",
    "print(\"x_test: {}\".format(str(x_test.shape)))\n",
    "\n",
    "# One-hot\n",
    "# What is it?\n",
    "# https://yq.aliyun.com/articles/126741\n",
    "y_train = np_utils.to_categorical(y_train_label, num_classes=10) # num_classes為 One-hot 分類總類別數，未指定則自動由來源資料判定\n",
    "y_test = np_utils.to_categorical(y_test_label, num_classes=10)\n",
    "print(\"\\ny_train: {}\".format(str(y_train.shape)))\n",
    "print(\"y_test: {}\".format(str(y_test.shape)))\n",
    "\n",
    "print(\"\\nImage index 0 array:\")\n",
    "print(\"Label = {}\".format(y_train[0]))"
   ]
  },
  {
   "cell_type": "markdown",
   "metadata": {},
   "source": [
    "# <font face=\"Microsoft JhengHei\">Create model</font>"
   ]
  },
  {
   "cell_type": "code",
   "execution_count": null,
   "metadata": {},
   "outputs": [
    {
     "name": "stdout",
     "output_type": "stream",
     "text": [
      "Model summary:\n",
      "_________________________________________________________________\n",
      "Layer (type)                 Output Shape              Param #   \n",
      "=================================================================\n",
      "conv2d_1 (Conv2D)            (None, 28, 28, 16)        416       \n",
      "_________________________________________________________________\n",
      "max_pooling2d_1 (MaxPooling2 (None, 14, 14, 16)        0         \n",
      "_________________________________________________________________\n",
      "conv2d_2 (Conv2D)            (None, 14, 14, 32)        12832     \n",
      "_________________________________________________________________\n",
      "max_pooling2d_2 (MaxPooling2 (None, 7, 7, 32)          0         \n",
      "_________________________________________________________________\n",
      "dropout_1 (Dropout)          (None, 7, 7, 32)          0         \n",
      "_________________________________________________________________\n",
      "flatten_1 (Flatten)          (None, 1568)              0         \n",
      "_________________________________________________________________\n",
      "dense_1 (Dense)              (None, 128)               200832    \n",
      "_________________________________________________________________\n",
      "dropout_2 (Dropout)          (None, 128)               0         \n",
      "_________________________________________________________________\n",
      "dense_2 (Dense)              (None, 10)                1290      \n",
      "=================================================================\n",
      "Total params: 215,370\n",
      "Trainable params: 215,370\n",
      "Non-trainable params: 0\n",
      "_________________________________________________________________\n"
     ]
    }
   ],
   "source": [
    "model = Sequential()  # Build Linear Model\n",
    "\n",
    "# Create CN layer 1  \n",
    "model.add(Conv2D(filters=16,  \n",
    "                 kernel_size=(5,5),  \n",
    "                 padding='same',  \n",
    "                 input_shape=(28,28,1),  \n",
    "                 activation='relu'))  \n",
    "\n",
    "# Create Max-Pool 1  \n",
    "model.add(MaxPooling2D(pool_size=(2,2)))  \n",
    "  \n",
    "# Create CN layer 2  \n",
    "model.add(Conv2D(filters=32,  \n",
    "                 kernel_size=(5,5),  \n",
    "                 padding='same',  \n",
    "                 input_shape=(28,28,1),  \n",
    "                 activation='relu'))  \n",
    "  \n",
    "# Create Max-Pool 2  \n",
    "model.add(MaxPooling2D(pool_size=(2,2)))  \n",
    "  \n",
    "# Add Dropout layer  \n",
    "model.add(Dropout(0.25)) \n",
    "\n",
    "# Add Flatten layer\n",
    "model.add(Flatten())\n",
    "\n",
    "# Add Hidden layer\n",
    "model.add(Dense(128, activation='relu'))  \n",
    "model.add(Dropout(0.5))\n",
    "\n",
    "# Add Output layer\n",
    "model.add(Dense(10, activation='softmax'))\n",
    "\n",
    "model.compile(loss='categorical_crossentropy', optimizer='adam', metrics=['accuracy'])\n",
    "\n",
    "print(\"Model summary:\")\n",
    "model.summary()"
   ]
  },
  {
   "cell_type": "markdown",
   "metadata": {},
   "source": [
    "# <font face=\"Microsoft JhengHei\">Plot Model Graph</font>"
   ]
  },
  {
   "cell_type": "code",
   "execution_count": null,
   "metadata": {},
   "outputs": [
    {
     "data": {
      "image/svg+xml": [
       "<svg height=\"792pt\" viewBox=\"0.00 0.00 388.00 792.00\" width=\"388pt\" xmlns=\"http://www.w3.org/2000/svg\" xmlns:xlink=\"http://www.w3.org/1999/xlink\">\n",
       "<g class=\"graph\" id=\"graph0\" transform=\"scale(1 1) rotate(0) translate(4 788)\">\n",
       "<title>G</title>\n",
       "<polygon fill=\"white\" points=\"-4,4 -4,-788 384,-788 384,4 -4,4\" stroke=\"none\"/>\n",
       "<!-- 140536059436000 -->\n",
       "<g class=\"node\" id=\"node1\"><title>140536059436000</title>\n",
       "<polygon fill=\"none\" points=\"42,-664.5 42,-710.5 338,-710.5 338,-664.5 42,-664.5\" stroke=\"black\"/>\n",
       "<text font-family=\"Times,serif\" font-size=\"14.00\" text-anchor=\"middle\" x=\"103.5\" y=\"-683.8\">conv2d_1: Conv2D</text>\n",
       "<polyline fill=\"none\" points=\"165,-664.5 165,-710.5 \" stroke=\"black\"/>\n",
       "<text font-family=\"Times,serif\" font-size=\"14.00\" text-anchor=\"middle\" x=\"192.5\" y=\"-695.3\">input:</text>\n",
       "<polyline fill=\"none\" points=\"165,-687.5 220,-687.5 \" stroke=\"black\"/>\n",
       "<text font-family=\"Times,serif\" font-size=\"14.00\" text-anchor=\"middle\" x=\"192.5\" y=\"-672.3\">output:</text>\n",
       "<polyline fill=\"none\" points=\"220,-664.5 220,-710.5 \" stroke=\"black\"/>\n",
       "<text font-family=\"Times,serif\" font-size=\"14.00\" text-anchor=\"middle\" x=\"279\" y=\"-695.3\">(None, 28, 28, 1)</text>\n",
       "<polyline fill=\"none\" points=\"220,-687.5 338,-687.5 \" stroke=\"black\"/>\n",
       "<text font-family=\"Times,serif\" font-size=\"14.00\" text-anchor=\"middle\" x=\"279\" y=\"-672.3\">(None, 28, 28, 16)</text>\n",
       "</g>\n",
       "<!-- 140536059166672 -->\n",
       "<g class=\"node\" id=\"node2\"><title>140536059166672</title>\n",
       "<polygon fill=\"none\" points=\"0,-581.5 0,-627.5 380,-627.5 380,-581.5 0,-581.5\" stroke=\"black\"/>\n",
       "<text font-family=\"Times,serif\" font-size=\"14.00\" text-anchor=\"middle\" x=\"103.5\" y=\"-600.8\">max_pooling2d_1: MaxPooling2D</text>\n",
       "<polyline fill=\"none\" points=\"207,-581.5 207,-627.5 \" stroke=\"black\"/>\n",
       "<text font-family=\"Times,serif\" font-size=\"14.00\" text-anchor=\"middle\" x=\"234.5\" y=\"-612.3\">input:</text>\n",
       "<polyline fill=\"none\" points=\"207,-604.5 262,-604.5 \" stroke=\"black\"/>\n",
       "<text font-family=\"Times,serif\" font-size=\"14.00\" text-anchor=\"middle\" x=\"234.5\" y=\"-589.3\">output:</text>\n",
       "<polyline fill=\"none\" points=\"262,-581.5 262,-627.5 \" stroke=\"black\"/>\n",
       "<text font-family=\"Times,serif\" font-size=\"14.00\" text-anchor=\"middle\" x=\"321\" y=\"-612.3\">(None, 28, 28, 16)</text>\n",
       "<polyline fill=\"none\" points=\"262,-604.5 380,-604.5 \" stroke=\"black\"/>\n",
       "<text font-family=\"Times,serif\" font-size=\"14.00\" text-anchor=\"middle\" x=\"321\" y=\"-589.3\">(None, 14, 14, 16)</text>\n",
       "</g>\n",
       "<!-- 140536059436000&#45;&gt;140536059166672 -->\n",
       "<g class=\"edge\" id=\"edge2\"><title>140536059436000-&gt;140536059166672</title>\n",
       "<path d=\"M190,-664.366C190,-656.152 190,-646.658 190,-637.725\" fill=\"none\" stroke=\"black\"/>\n",
       "<polygon fill=\"black\" points=\"193.5,-637.607 190,-627.607 186.5,-637.607 193.5,-637.607\" stroke=\"black\"/>\n",
       "</g>\n",
       "<!-- 140536059737760 -->\n",
       "<g class=\"node\" id=\"node3\"><title>140536059737760</title>\n",
       "<polygon fill=\"none\" points=\"42,-498.5 42,-544.5 338,-544.5 338,-498.5 42,-498.5\" stroke=\"black\"/>\n",
       "<text font-family=\"Times,serif\" font-size=\"14.00\" text-anchor=\"middle\" x=\"103.5\" y=\"-517.8\">conv2d_2: Conv2D</text>\n",
       "<polyline fill=\"none\" points=\"165,-498.5 165,-544.5 \" stroke=\"black\"/>\n",
       "<text font-family=\"Times,serif\" font-size=\"14.00\" text-anchor=\"middle\" x=\"192.5\" y=\"-529.3\">input:</text>\n",
       "<polyline fill=\"none\" points=\"165,-521.5 220,-521.5 \" stroke=\"black\"/>\n",
       "<text font-family=\"Times,serif\" font-size=\"14.00\" text-anchor=\"middle\" x=\"192.5\" y=\"-506.3\">output:</text>\n",
       "<polyline fill=\"none\" points=\"220,-498.5 220,-544.5 \" stroke=\"black\"/>\n",
       "<text font-family=\"Times,serif\" font-size=\"14.00\" text-anchor=\"middle\" x=\"279\" y=\"-529.3\">(None, 14, 14, 16)</text>\n",
       "<polyline fill=\"none\" points=\"220,-521.5 338,-521.5 \" stroke=\"black\"/>\n",
       "<text font-family=\"Times,serif\" font-size=\"14.00\" text-anchor=\"middle\" x=\"279\" y=\"-506.3\">(None, 14, 14, 32)</text>\n",
       "</g>\n",
       "<!-- 140536059166672&#45;&gt;140536059737760 -->\n",
       "<g class=\"edge\" id=\"edge3\"><title>140536059166672-&gt;140536059737760</title>\n",
       "<path d=\"M190,-581.366C190,-573.152 190,-563.658 190,-554.725\" fill=\"none\" stroke=\"black\"/>\n",
       "<polygon fill=\"black\" points=\"193.5,-554.607 190,-544.607 186.5,-554.607 193.5,-554.607\" stroke=\"black\"/>\n",
       "</g>\n",
       "<!-- 140536059738600 -->\n",
       "<g class=\"node\" id=\"node4\"><title>140536059738600</title>\n",
       "<polygon fill=\"none\" points=\"0,-415.5 0,-461.5 380,-461.5 380,-415.5 0,-415.5\" stroke=\"black\"/>\n",
       "<text font-family=\"Times,serif\" font-size=\"14.00\" text-anchor=\"middle\" x=\"103.5\" y=\"-434.8\">max_pooling2d_2: MaxPooling2D</text>\n",
       "<polyline fill=\"none\" points=\"207,-415.5 207,-461.5 \" stroke=\"black\"/>\n",
       "<text font-family=\"Times,serif\" font-size=\"14.00\" text-anchor=\"middle\" x=\"234.5\" y=\"-446.3\">input:</text>\n",
       "<polyline fill=\"none\" points=\"207,-438.5 262,-438.5 \" stroke=\"black\"/>\n",
       "<text font-family=\"Times,serif\" font-size=\"14.00\" text-anchor=\"middle\" x=\"234.5\" y=\"-423.3\">output:</text>\n",
       "<polyline fill=\"none\" points=\"262,-415.5 262,-461.5 \" stroke=\"black\"/>\n",
       "<text font-family=\"Times,serif\" font-size=\"14.00\" text-anchor=\"middle\" x=\"321\" y=\"-446.3\">(None, 14, 14, 32)</text>\n",
       "<polyline fill=\"none\" points=\"262,-438.5 380,-438.5 \" stroke=\"black\"/>\n",
       "<text font-family=\"Times,serif\" font-size=\"14.00\" text-anchor=\"middle\" x=\"321\" y=\"-423.3\">(None, 7, 7, 32)</text>\n",
       "</g>\n",
       "<!-- 140536059737760&#45;&gt;140536059738600 -->\n",
       "<g class=\"edge\" id=\"edge4\"><title>140536059737760-&gt;140536059738600</title>\n",
       "<path d=\"M190,-498.366C190,-490.152 190,-480.658 190,-471.725\" fill=\"none\" stroke=\"black\"/>\n",
       "<polygon fill=\"black\" points=\"193.5,-471.607 190,-461.607 186.5,-471.607 193.5,-471.607\" stroke=\"black\"/>\n",
       "</g>\n",
       "<!-- 140536058854032 -->\n",
       "<g class=\"node\" id=\"node5\"><title>140536058854032</title>\n",
       "<polygon fill=\"none\" points=\"48,-332.5 48,-378.5 332,-378.5 332,-332.5 48,-332.5\" stroke=\"black\"/>\n",
       "<text font-family=\"Times,serif\" font-size=\"14.00\" text-anchor=\"middle\" x=\"110.5\" y=\"-351.8\">dropout_1: Dropout</text>\n",
       "<polyline fill=\"none\" points=\"173,-332.5 173,-378.5 \" stroke=\"black\"/>\n",
       "<text font-family=\"Times,serif\" font-size=\"14.00\" text-anchor=\"middle\" x=\"200.5\" y=\"-363.3\">input:</text>\n",
       "<polyline fill=\"none\" points=\"173,-355.5 228,-355.5 \" stroke=\"black\"/>\n",
       "<text font-family=\"Times,serif\" font-size=\"14.00\" text-anchor=\"middle\" x=\"200.5\" y=\"-340.3\">output:</text>\n",
       "<polyline fill=\"none\" points=\"228,-332.5 228,-378.5 \" stroke=\"black\"/>\n",
       "<text font-family=\"Times,serif\" font-size=\"14.00\" text-anchor=\"middle\" x=\"280\" y=\"-363.3\">(None, 7, 7, 32)</text>\n",
       "<polyline fill=\"none\" points=\"228,-355.5 332,-355.5 \" stroke=\"black\"/>\n",
       "<text font-family=\"Times,serif\" font-size=\"14.00\" text-anchor=\"middle\" x=\"280\" y=\"-340.3\">(None, 7, 7, 32)</text>\n",
       "</g>\n",
       "<!-- 140536059738600&#45;&gt;140536058854032 -->\n",
       "<g class=\"edge\" id=\"edge5\"><title>140536059738600-&gt;140536058854032</title>\n",
       "<path d=\"M190,-415.366C190,-407.152 190,-397.658 190,-388.725\" fill=\"none\" stroke=\"black\"/>\n",
       "<polygon fill=\"black\" points=\"193.5,-388.607 190,-378.607 186.5,-388.607 193.5,-388.607\" stroke=\"black\"/>\n",
       "</g>\n",
       "<!-- 140536058828392 -->\n",
       "<g class=\"node\" id=\"node6\"><title>140536058828392</title>\n",
       "<polygon fill=\"none\" points=\"55.5,-249.5 55.5,-295.5 324.5,-295.5 324.5,-249.5 55.5,-249.5\" stroke=\"black\"/>\n",
       "<text font-family=\"Times,serif\" font-size=\"14.00\" text-anchor=\"middle\" x=\"110.5\" y=\"-268.8\">flatten_1: Flatten</text>\n",
       "<polyline fill=\"none\" points=\"165.5,-249.5 165.5,-295.5 \" stroke=\"black\"/>\n",
       "<text font-family=\"Times,serif\" font-size=\"14.00\" text-anchor=\"middle\" x=\"193\" y=\"-280.3\">input:</text>\n",
       "<polyline fill=\"none\" points=\"165.5,-272.5 220.5,-272.5 \" stroke=\"black\"/>\n",
       "<text font-family=\"Times,serif\" font-size=\"14.00\" text-anchor=\"middle\" x=\"193\" y=\"-257.3\">output:</text>\n",
       "<polyline fill=\"none\" points=\"220.5,-249.5 220.5,-295.5 \" stroke=\"black\"/>\n",
       "<text font-family=\"Times,serif\" font-size=\"14.00\" text-anchor=\"middle\" x=\"272.5\" y=\"-280.3\">(None, 7, 7, 32)</text>\n",
       "<polyline fill=\"none\" points=\"220.5,-272.5 324.5,-272.5 \" stroke=\"black\"/>\n",
       "<text font-family=\"Times,serif\" font-size=\"14.00\" text-anchor=\"middle\" x=\"272.5\" y=\"-257.3\">(None, 1568)</text>\n",
       "</g>\n",
       "<!-- 140536058854032&#45;&gt;140536058828392 -->\n",
       "<g class=\"edge\" id=\"edge6\"><title>140536058854032-&gt;140536058828392</title>\n",
       "<path d=\"M190,-332.366C190,-324.152 190,-314.658 190,-305.725\" fill=\"none\" stroke=\"black\"/>\n",
       "<polygon fill=\"black\" points=\"193.5,-305.607 190,-295.607 186.5,-305.607 193.5,-305.607\" stroke=\"black\"/>\n",
       "</g>\n",
       "<!-- 140536058827160 -->\n",
       "<g class=\"node\" id=\"node7\"><title>140536058827160</title>\n",
       "<polygon fill=\"none\" points=\"67,-166.5 67,-212.5 313,-212.5 313,-166.5 67,-166.5\" stroke=\"black\"/>\n",
       "<text font-family=\"Times,serif\" font-size=\"14.00\" text-anchor=\"middle\" x=\"118\" y=\"-185.8\">dense_1: Dense</text>\n",
       "<polyline fill=\"none\" points=\"169,-166.5 169,-212.5 \" stroke=\"black\"/>\n",
       "<text font-family=\"Times,serif\" font-size=\"14.00\" text-anchor=\"middle\" x=\"196.5\" y=\"-197.3\">input:</text>\n",
       "<polyline fill=\"none\" points=\"169,-189.5 224,-189.5 \" stroke=\"black\"/>\n",
       "<text font-family=\"Times,serif\" font-size=\"14.00\" text-anchor=\"middle\" x=\"196.5\" y=\"-174.3\">output:</text>\n",
       "<polyline fill=\"none\" points=\"224,-166.5 224,-212.5 \" stroke=\"black\"/>\n",
       "<text font-family=\"Times,serif\" font-size=\"14.00\" text-anchor=\"middle\" x=\"268.5\" y=\"-197.3\">(None, 1568)</text>\n",
       "<polyline fill=\"none\" points=\"224,-189.5 313,-189.5 \" stroke=\"black\"/>\n",
       "<text font-family=\"Times,serif\" font-size=\"14.00\" text-anchor=\"middle\" x=\"268.5\" y=\"-174.3\">(None, 128)</text>\n",
       "</g>\n",
       "<!-- 140536058828392&#45;&gt;140536058827160 -->\n",
       "<g class=\"edge\" id=\"edge7\"><title>140536058828392-&gt;140536058827160</title>\n",
       "<path d=\"M190,-249.366C190,-241.152 190,-231.658 190,-222.725\" fill=\"none\" stroke=\"black\"/>\n",
       "<polygon fill=\"black\" points=\"193.5,-222.607 190,-212.607 186.5,-222.607 193.5,-222.607\" stroke=\"black\"/>\n",
       "</g>\n",
       "<!-- 140535825719928 -->\n",
       "<g class=\"node\" id=\"node8\"><title>140535825719928</title>\n",
       "<polygon fill=\"none\" points=\"58.5,-83.5 58.5,-129.5 321.5,-129.5 321.5,-83.5 58.5,-83.5\" stroke=\"black\"/>\n",
       "<text font-family=\"Times,serif\" font-size=\"14.00\" text-anchor=\"middle\" x=\"121\" y=\"-102.8\">dropout_2: Dropout</text>\n",
       "<polyline fill=\"none\" points=\"183.5,-83.5 183.5,-129.5 \" stroke=\"black\"/>\n",
       "<text font-family=\"Times,serif\" font-size=\"14.00\" text-anchor=\"middle\" x=\"211\" y=\"-114.3\">input:</text>\n",
       "<polyline fill=\"none\" points=\"183.5,-106.5 238.5,-106.5 \" stroke=\"black\"/>\n",
       "<text font-family=\"Times,serif\" font-size=\"14.00\" text-anchor=\"middle\" x=\"211\" y=\"-91.3\">output:</text>\n",
       "<polyline fill=\"none\" points=\"238.5,-83.5 238.5,-129.5 \" stroke=\"black\"/>\n",
       "<text font-family=\"Times,serif\" font-size=\"14.00\" text-anchor=\"middle\" x=\"280\" y=\"-114.3\">(None, 128)</text>\n",
       "<polyline fill=\"none\" points=\"238.5,-106.5 321.5,-106.5 \" stroke=\"black\"/>\n",
       "<text font-family=\"Times,serif\" font-size=\"14.00\" text-anchor=\"middle\" x=\"280\" y=\"-91.3\">(None, 128)</text>\n",
       "</g>\n",
       "<!-- 140536058827160&#45;&gt;140535825719928 -->\n",
       "<g class=\"edge\" id=\"edge8\"><title>140536058827160-&gt;140535825719928</title>\n",
       "<path d=\"M190,-166.366C190,-158.152 190,-148.658 190,-139.725\" fill=\"none\" stroke=\"black\"/>\n",
       "<polygon fill=\"black\" points=\"193.5,-139.607 190,-129.607 186.5,-139.607 193.5,-139.607\" stroke=\"black\"/>\n",
       "</g>\n",
       "<!-- 140535825458400 -->\n",
       "<g class=\"node\" id=\"node9\"><title>140535825458400</title>\n",
       "<polygon fill=\"none\" points=\"70,-0.5 70,-46.5 310,-46.5 310,-0.5 70,-0.5\" stroke=\"black\"/>\n",
       "<text font-family=\"Times,serif\" font-size=\"14.00\" text-anchor=\"middle\" x=\"121\" y=\"-19.8\">dense_2: Dense</text>\n",
       "<polyline fill=\"none\" points=\"172,-0.5 172,-46.5 \" stroke=\"black\"/>\n",
       "<text font-family=\"Times,serif\" font-size=\"14.00\" text-anchor=\"middle\" x=\"199.5\" y=\"-31.3\">input:</text>\n",
       "<polyline fill=\"none\" points=\"172,-23.5 227,-23.5 \" stroke=\"black\"/>\n",
       "<text font-family=\"Times,serif\" font-size=\"14.00\" text-anchor=\"middle\" x=\"199.5\" y=\"-8.3\">output:</text>\n",
       "<polyline fill=\"none\" points=\"227,-0.5 227,-46.5 \" stroke=\"black\"/>\n",
       "<text font-family=\"Times,serif\" font-size=\"14.00\" text-anchor=\"middle\" x=\"268.5\" y=\"-31.3\">(None, 128)</text>\n",
       "<polyline fill=\"none\" points=\"227,-23.5 310,-23.5 \" stroke=\"black\"/>\n",
       "<text font-family=\"Times,serif\" font-size=\"14.00\" text-anchor=\"middle\" x=\"268.5\" y=\"-8.3\">(None, 10)</text>\n",
       "</g>\n",
       "<!-- 140535825719928&#45;&gt;140535825458400 -->\n",
       "<g class=\"edge\" id=\"edge9\"><title>140535825719928-&gt;140535825458400</title>\n",
       "<path d=\"M190,-83.3664C190,-75.1516 190,-65.6579 190,-56.7252\" fill=\"none\" stroke=\"black\"/>\n",
       "<polygon fill=\"black\" points=\"193.5,-56.6068 190,-46.6068 186.5,-56.6069 193.5,-56.6068\" stroke=\"black\"/>\n",
       "</g>\n",
       "<!-- 140536059284840 -->\n",
       "<g class=\"node\" id=\"node10\"><title>140536059284840</title>\n",
       "<polygon fill=\"none\" points=\"131,-747.5 131,-783.5 249,-783.5 249,-747.5 131,-747.5\" stroke=\"black\"/>\n",
       "<text font-family=\"Times,serif\" font-size=\"14.00\" text-anchor=\"middle\" x=\"190\" y=\"-761.8\">140536059284840</text>\n",
       "</g>\n",
       "<!-- 140536059284840&#45;&gt;140536059436000 -->\n",
       "<g class=\"edge\" id=\"edge1\"><title>140536059284840-&gt;140536059436000</title>\n",
       "<path d=\"M190,-747.254C190,-739.363 190,-729.749 190,-720.602\" fill=\"none\" stroke=\"black\"/>\n",
       "<polygon fill=\"black\" points=\"193.5,-720.591 190,-710.591 186.5,-720.591 193.5,-720.591\" stroke=\"black\"/>\n",
       "</g>\n",
       "</g>\n",
       "</svg>"
      ],
      "text/plain": [
       "<IPython.core.display.SVG object>"
      ]
     },
     "execution_count": 6,
     "metadata": {},
     "output_type": "execute_result"
    }
   ],
   "source": [
    "show_shapes = True\n",
    "#plot_model(model, show_shapes=show_shapes, to_file='{}'.format('model.png'))\n",
    "SVG(model_to_dot(model, show_shapes=show_shapes).create(prog=\"dot\", format=\"svg\"))"
   ]
  },
  {
   "cell_type": "markdown",
   "metadata": {},
   "source": [
    "# <font face=\"Microsoft JhengHei\">FIT!</font>"
   ]
  },
  {
   "cell_type": "code",
   "execution_count": null,
   "metadata": {
    "scrolled": true
   },
   "outputs": [
    {
     "name": "stdout",
     "output_type": "stream",
     "text": [
      "Train on 54000 samples, validate on 6000 samples\n",
      "Epoch 1/10\n",
      "54000/54000 [==============================] - 3s 48us/step - loss: 0.4043 - acc: 0.8742 - val_loss: 0.0689 - val_acc: 0.9803\n",
      "\n",
      "Epoch 00001: val_loss improved from inf to 0.06894, saving model to best_model.h5\n",
      "Epoch 2/10\n",
      "54000/54000 [==============================] - 1s 21us/step - loss: 0.1209 - acc: 0.9638 - val_loss: 0.0475 - val_acc: 0.9863\n",
      "\n",
      "Epoch 00002: val_loss improved from 0.06894 to 0.04755, saving model to best_model.h5\n",
      "Epoch 3/10\n",
      "54000/54000 [==============================] - 1s 25us/step - loss: 0.0844 - acc: 0.9745 - val_loss: 0.0380 - val_acc: 0.9893\n",
      "\n",
      "Epoch 00003: val_loss improved from 0.04755 to 0.03800, saving model to best_model.h5\n",
      "Epoch 4/10\n",
      "54000/54000 [==============================] - 1s 25us/step - loss: 0.0678 - acc: 0.9783 - val_loss: 0.0339 - val_acc: 0.9903\n",
      "\n",
      "Epoch 00004: val_loss improved from 0.03800 to 0.03390, saving model to best_model.h5\n",
      "Epoch 5/10\n",
      "54000/54000 [==============================] - 1s 27us/step - loss: 0.0587 - acc: 0.9819 - val_loss: 0.0303 - val_acc: 0.9910\n",
      "\n",
      "Epoch 00005: val_loss improved from 0.03390 to 0.03030, saving model to best_model.h5\n",
      "Epoch 6/10\n",
      "54000/54000 [==============================] - 2s 40us/step - loss: 0.0525 - acc: 0.9839 - val_loss: 0.0292 - val_acc: 0.9913\n",
      "\n",
      "Epoch 00006: val_loss improved from 0.03030 to 0.02916, saving model to best_model.h5\n",
      "Epoch 7/10\n",
      "54000/54000 [==============================] - 2s 33us/step - loss: 0.0487 - acc: 0.9856 - val_loss: 0.0283 - val_acc: 0.9915\n",
      "\n",
      "Epoch 00007: val_loss improved from 0.02916 to 0.02832, saving model to best_model.h5\n",
      "Epoch 8/10\n",
      "54000/54000 [==============================] - 2s 32us/step - loss: 0.0415 - acc: 0.9877 - val_loss: 0.0299 - val_acc: 0.9920\n",
      "\n",
      "Epoch 00008: val_loss did not improve from 0.02832\n",
      "Epoch 9/10\n",
      "54000/54000 [==============================] - 2s 32us/step - loss: 0.0378 - acc: 0.9884 - val_loss: 0.0241 - val_acc: 0.9925\n",
      "\n",
      "Epoch 00009: val_loss improved from 0.02832 to 0.02406, saving model to best_model.h5\n",
      "Epoch 10/10\n",
      "54000/54000 [==============================] - 2s 32us/step - loss: 0.0356 - acc: 0.9891 - val_loss: 0.0257 - val_acc: 0.9927\n",
      "\n",
      "Epoch 00010: val_loss did not improve from 0.02406\n"
     ]
    },
    {
     "data": {
      "text/plain": [
       "[0.020947205006019702, 0.9924]"
      ]
     },
     "execution_count": 7,
     "metadata": {},
     "output_type": "execute_result"
    }
   ],
   "source": [
    "# Save best weights\n",
    "checkpointer = ModelCheckpoint(filepath='best_model.h5', verbose=1, save_best_only=True)\n",
    "\n",
    "# TQDMNotebookCallback for notebook\n",
    "# TQDMCallback for text mode\n",
    "train_history = model.fit(x=x_train, y=y_train, \n",
    "                          validation_split=0.1, epochs=10, batch_size=200, verbose=1, \n",
    "                          callbacks=[checkpointer])\n",
    "\n",
    "# evaluate model\n",
    "model.evaluate(x_test, y_test, verbose=0)"
   ]
  },
  {
   "cell_type": "markdown",
   "metadata": {},
   "source": [
    "# <font face=\"Microsoft JhengHei\">Plot Logs</font>"
   ]
  },
  {
   "cell_type": "code",
   "execution_count": null,
   "metadata": {},
   "outputs": [
    {
     "data": {
      "image/png": "[encoded data removed]",
      "text/plain": [
       "<matplotlib.figure.Figure at 0x7fd10805ecc0>"
      ]
     },
     "metadata": {
      "needs_background": "light"
     },
     "output_type": "display_data"
    }
   ],
   "source": [
    "plt.figure(figsize=(18,4))\n",
    "plt.subplot(1, 2, 1)\n",
    "plt.suptitle('Optimizer : Adam', fontsize=12)\n",
    "plt.plot(train_history.history['acc'], color='b', label='Training Accuracy')\n",
    "plt.plot(train_history.history['val_acc'], color='r', label='Validation Accuracy')\n",
    "plt.legend(loc='lower right')\n",
    "\n",
    "plt.subplot(1, 2, 2)\n",
    "plt.ylabel('Accuracy', fontsize=20)\n",
    "plt.ylabel('Loss', fontsize=20)\n",
    "plt.plot(train_history.history['loss'], color='b', label='Training Loss')\n",
    "plt.plot(train_history.history['val_loss'], color='r', label='Validation Loss')\n",
    "plt.legend(loc='upper right')\n",
    "plt.show()"
   ]
  },
  {
   "cell_type": "markdown",
   "metadata": {},
   "source": [
    "# <font face=\"Microsoft JhengHei\">Save Freeze model"
   ]
  },
  {
   "cell_type": "code",
   "execution_count": null,
   "metadata": {},
   "outputs": [
    {
     "name": "stdout",
     "output_type": "stream",
     "text": [
      "INFO:tensorflow:Froze 37 variables.\n",
      "INFO:tensorflow:Converted 37 variables to const ops.\n"
     ]
    },
    {
     "data": {
      "text/plain": [
       "'./pb_model/inference_graph.pb'"
      ]
     },
     "execution_count": 9,
     "metadata": {},
     "output_type": "execute_result"
    }
   ],
   "source": [
    "from keras import backend as K\n",
    "from tensorflow.python.framework import graph_io\n",
    "\n",
    "def freeze_session(session, keep_var_names=None, output_names=None, clear_devices=True):\n",
    "    \"\"\"\n",
    "    Freezes the state of a session into a pruned computation graph.\n",
    "\n",
    "    Creates a new computation graph where variable nodes are replaced by\n",
    "    constants taking their current value in the session. The new graph will be\n",
    "    pruned so subgraphs that are not necessary to compute the requested\n",
    "    outputs are removed.\n",
    "    @param session The TensorFlow session to be frozen.\n",
    "    @param keep_var_names A list of variable names that should not be frozen,\n",
    "                          or None to freeze all the variables in the graph.\n",
    "    @param output_names Names of the relevant graph outputs.\n",
    "    @param clear_devices Remove the device directives from the graph for better portability.\n",
    "    @return The frozen graph definition.\n",
    "    \"\"\"\n",
    "    graph = session.graph\n",
    "    with graph.as_default():\n",
    "        freeze_var_names = list(set(v.op.name for v in tf.global_variables()).difference(keep_var_names or []))\n",
    "        output_names = output_names or []\n",
    "        output_names += [v.op.name for v in tf.global_variables()]\n",
    "        input_graph_def = graph.as_graph_def()\n",
    "        if clear_devices:\n",
    "            for node in input_graph_def.node:\n",
    "                node.device = \"\"\n",
    "                \n",
    "        #print('{}:{}\\n{}:{}\\n{}:{}'.format(len(freeze_var_names), freeze_var_names, \n",
    "        #                                   len(freeze_var_names), output_names, \n",
    "        #                                   len(freeze_var_names), freeze_var_names))\n",
    "        \n",
    "        frozen_graph = tf.graph_util.convert_variables_to_constants(\n",
    "            session, input_graph_def, output_names, freeze_var_names)\n",
    "        return frozen_graph\n",
    "    \n",
    "frozen = freeze_session(K.get_session(),\n",
    "                              output_names=[out.op.name for out in model.outputs])\n",
    "\n",
    "# import graph_def\n",
    "with tf.Graph().as_default() as graph:\n",
    "    tf.import_graph_def(frozen)\n",
    "    \n",
    "#for op in graph.get_operations():\n",
    "#    print(op.name)\n",
    "\n",
    "pb_path = graph_io.write_graph(frozen, './pb_model', 'inference_graph.pb', as_text=False)\n",
    "pb_path"
   ]
  },
  {
   "cell_type": "markdown",
   "metadata": {},
   "source": [
    "# Convert pb model to IR model using BASH"
   ]
  },
  {
   "cell_type": "code",
   "execution_count": null,
   "metadata": {
    "scrolled": true
   },
   "outputs": [],
   "source": [
    "%%bash -s \"$pb_path\"\n",
    "export var1=$1\n",
    "export var2=\"./vino_model\"\n",
    ". /opt/intel/openvino/bin/setupvars.sh\n",
    "mo.py --input_model $var1 --output_dir $var2 --input_shape [1,28,28,1] --data_type=FP16"
   ]
  }
 ],
 "metadata": {
  "kernelspec": {
   "display_name": "Python 3",
   "language": "python",
   "name": "python3"
  },
  "language_info": {
   "codemirror_mode": {
    "name": "ipython",
    "version": 3
   },
   "file_extension": ".py",
   "mimetype": "text/x-python",
   "name": "python",
   "nbconvert_exporter": "python",
   "pygments_lexer": "ipython3",
   "version": "3.5.2"
  },
  "varInspector": {
   "cols": {
    "lenName": 16,
    "lenType": 16,
    "lenVar": 40
   },
   "kernels_config": {
    "python": {
     "delete_cmd_postfix": "",
     "delete_cmd_prefix": "del ",
     "library": "var_list.py",
     "varRefreshCmd": "print(var_dic_list())"
    },
    "r": {
     "delete_cmd_postfix": ") ",
     "delete_cmd_prefix": "rm(",
     "library": "var_list.r",
     "varRefreshCmd": "cat(var_dic_list()) "
    }
   },
   "types_to_exclude": [
    "module",
    "function",
    "builtin_function_or_method",
    "instance",
    "_Feature"
   ],
   "window_display": false
  }
 },
 "nbformat": 4,
 "nbformat_minor": 2
}
